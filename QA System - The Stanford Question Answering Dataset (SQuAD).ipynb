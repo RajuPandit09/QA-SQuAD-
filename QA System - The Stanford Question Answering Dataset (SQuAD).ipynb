{
 "cells": [
  {
   "cell_type": "code",
   "execution_count": 170,
   "id": "b34bf105",
   "metadata": {},
   "outputs": [],
   "source": [
    "import string\n",
    "import pandas as pd\n",
    "import numpy as np\n",
    "from tqdm.notebook import tqdm\n",
    "import requests\n",
    "from bs4 import BeautifulSoup\n",
    "\n",
    "import tensorflow as tf\n",
    "from tensorflow.keras.preprocessing.text import Tokenizer\n",
    "from tensorflow.keras.preprocessing.sequence import pad_sequences\n",
    "from tensorflow.keras.layers import Input, Embedding, LSTM, Dense, Concatenate, Dropout, BatchNormalization\n",
    "from tensorflow.keras.optimizers import Adam\n",
    "from tensorflow.keras.losses import SparseCategoricalCrossentropy\n",
    "\n",
    "import spacy\n",
    "import nltk\n",
    "from nltk.stem import WordNetLemmatizer\n",
    "from nltk.corpus import stopwords\n",
    "from sklearn.model_selection import train_test_split\n",
    "from sklearn.model_selection import RandomizedSearchCV\n",
    "from sklearn.metrics import accuracy_score, recall_score, precision_score\n",
    "\n",
    "import matplotlib.pyplot as plt\n",
    "import seaborn as sns\n",
    "import plotly.express as px"
   ]
  },
  {
   "cell_type": "code",
   "execution_count": 169,
   "id": "ab56fbd9",
   "metadata": {},
   "outputs": [
    {
     "name": "stderr",
     "output_type": "stream",
     "text": [
      "[nltk_data] Downloading package punkt to\n",
      "[nltk_data]     C:\\Users\\Neurons\\AppData\\Roaming\\nltk_data...\n",
      "[nltk_data]   Package punkt is already up-to-date!\n"
     ]
    },
    {
     "data": {
      "text/plain": [
       "True"
      ]
     },
     "execution_count": 169,
     "metadata": {},
     "output_type": "execute_result"
    }
   ],
   "source": [
    "nltk.download(\"punkt\")"
   ]
  },
  {
   "cell_type": "markdown",
   "id": "52ab6ac5",
   "metadata": {},
   "source": [
    "## DATA EXTRACTION"
   ]
  },
  {
   "cell_type": "markdown",
   "id": "cfd2f23c",
   "metadata": {},
   "source": [
    "### 1. DOWNLOADED SQUAD JSON"
   ]
  },
  {
   "cell_type": "code",
   "execution_count": 3,
   "id": "059799d2",
   "metadata": {
    "scrolled": false
   },
   "outputs": [
    {
     "data": {
      "application/vnd.jupyter.widget-view+json": {
       "model_id": "1409b7c4d453458c881878bd3ec8caff",
       "version_major": 2,
       "version_minor": 0
      },
      "text/plain": [
       "  0%|          | 0/442 [00:00<?, ?it/s]"
      ]
     },
     "metadata": {},
     "output_type": "display_data"
    }
   ],
   "source": [
    "df_json = pd.read_json(\"train.json\")\n",
    "\n",
    "def extract_data(data):\n",
    "    return data['title'], data['paragraphs'][0]['qas'][0]['question'],data['paragraphs'][0]['qas'][0]['answers'], data['paragraphs'][0]['qas'][0]['is_impossible'], data['paragraphs'][0]['context']\n",
    "\n",
    "def return_dataframe(data):\n",
    "    d = {'title': [], 'question': [], 'answers':[], 'labels': [], 'context': []}\n",
    "    for row in tqdm(data):\n",
    "        d['title'].append(row[0])\n",
    "        d['question'].append(row[1])\n",
    "        if len(row[2]):\n",
    "            d['answers'].append(row[2][0]['text'])\n",
    "        else:\n",
    "            d['answers'].append(np.nan)\n",
    "        d['labels'].append(row[3])\n",
    "        d['context'].append(row[4])\n",
    "    return pd.DataFrame(d)\n",
    "\n",
    "data_squad = df_json['data'].apply(extract_data)\n",
    "df_squad = return_dataframe(data_squad)"
   ]
  },
  {
   "cell_type": "markdown",
   "id": "5c161a81",
   "metadata": {},
   "source": [
    "### 2. SQUAD DATA SCRAPPING"
   ]
  },
  {
   "cell_type": "code",
   "execution_count": 5,
   "id": "bcabd3a6",
   "metadata": {},
   "outputs": [
    {
     "data": {
      "application/vnd.jupyter.widget-view+json": {
       "model_id": "0862d2c744cd4c05afbcd92ad624a69e",
       "version_major": 2,
       "version_minor": 0
      },
      "text/plain": [
       "  0%|          | 0/35 [00:00<?, ?it/s]"
      ]
     },
     "metadata": {},
     "output_type": "display_data"
    }
   ],
   "source": [
    "def scrape_data(base_url):\n",
    "    response = requests.get(base_url)\n",
    "    soup = BeautifulSoup(response.content, \"html.parser\")\n",
    "\n",
    "    topics = soup.find(\"div\", class_=\"infoBody\").find(\"ul\").find_all(\"li\")\n",
    "    base_info = []\n",
    "    for topic in topics:\n",
    "        a = topic.find(\"a\")\n",
    "        if a:\n",
    "            html = a.get(\"href\").split(\"/\")[-1]\n",
    "            text = a.get_text()\n",
    "            base_info.append((text, html))\n",
    "\n",
    "    data = {'context': [], 'question': [], 'answers': []}\n",
    "    for info in tqdm(base_info):\n",
    "        res = requests.get(base_url + info[1])\n",
    "        sp = BeautifulSoup(res.content, \"html.parser\")\n",
    "        rows = sp.find_all(\"div\", class_=\"row\")\n",
    "\n",
    "        for row in rows:\n",
    "            if row.find(\"div\", class_=\"col-md-6\"):\n",
    "                context = row.find(\"div\", class_='col-md-6').find(\"pre\").get_text()\n",
    "                qalist = row.find(\"div\", class_=\"qas-wrap\").find_all(\"div\", class_=\"qa-wrap\")\n",
    "\n",
    "                for qa in qalist:\n",
    "                    question = qa.find(\"strong\", class_=\"question\").get_text()\n",
    "                    answers = [] \n",
    "                    ansTags = qa.find_all(\"span\", class_=\"answer\") \n",
    "                    for tag in ansTags:\n",
    "                        answers.append(tag.get_text())\n",
    "\n",
    "                    data['context'].append(context)\n",
    "                    data['question'].append(question)\n",
    "                    data['answers'].append(answers)\n",
    "    return pd.DataFrame(data)\n",
    "\n",
    "base_url = \"https://rajpurkar.github.io/SQuAD-explorer/explore/v2.0/dev/\"\n",
    "df1 = scrape_data(base_url)"
   ]
  },
  {
   "cell_type": "code",
   "execution_count": 6,
   "id": "dc5df411",
   "metadata": {},
   "outputs": [
    {
     "data": {
      "text/plain": [
       "(12285, 3)"
      ]
     },
     "execution_count": 6,
     "metadata": {},
     "output_type": "execute_result"
    }
   ],
   "source": [
    "df1.shape"
   ]
  },
  {
   "cell_type": "markdown",
   "id": "4164e8f2",
   "metadata": {},
   "source": [
    "The dataset has total observations more than 12K with three features namely context, question and answer. The answers are the list of different possible answers for the given question initially."
   ]
  },
  {
   "cell_type": "code",
   "execution_count": 7,
   "id": "73ceaa75",
   "metadata": {
    "scrolled": false
   },
   "outputs": [
    {
     "data": {
      "text/html": [
       "<div>\n",
       "<style scoped>\n",
       "    .dataframe tbody tr th:only-of-type {\n",
       "        vertical-align: middle;\n",
       "    }\n",
       "\n",
       "    .dataframe tbody tr th {\n",
       "        vertical-align: top;\n",
       "    }\n",
       "\n",
       "    .dataframe thead th {\n",
       "        text-align: right;\n",
       "    }\n",
       "</style>\n",
       "<table border=\"1\" class=\"dataframe\">\n",
       "  <thead>\n",
       "    <tr style=\"text-align: right;\">\n",
       "      <th></th>\n",
       "      <th>context</th>\n",
       "      <th>question</th>\n",
       "      <th>answers</th>\n",
       "    </tr>\n",
       "  </thead>\n",
       "  <tbody>\n",
       "    <tr>\n",
       "      <th>0</th>\n",
       "      <td>The Normans (Norman: Nourmands; French: Norman...</td>\n",
       "      <td>In what country is Normandy located?</td>\n",
       "      <td>[France, France, France, France]</td>\n",
       "    </tr>\n",
       "    <tr>\n",
       "      <th>1</th>\n",
       "      <td>The Normans (Norman: Nourmands; French: Norman...</td>\n",
       "      <td>When were the Normans in Normandy?</td>\n",
       "      <td>[10th and 11th centuries, in the 10th and 11th...</td>\n",
       "    </tr>\n",
       "    <tr>\n",
       "      <th>2</th>\n",
       "      <td>The Normans (Norman: Nourmands; French: Norman...</td>\n",
       "      <td>From which countries did the Norse originate?</td>\n",
       "      <td>[Denmark, Iceland and Norway, Denmark, Iceland...</td>\n",
       "    </tr>\n",
       "    <tr>\n",
       "      <th>3</th>\n",
       "      <td>The Normans (Norman: Nourmands; French: Norman...</td>\n",
       "      <td>Who was the Norse leader?</td>\n",
       "      <td>[Rollo, Rollo, Rollo, Rollo]</td>\n",
       "    </tr>\n",
       "    <tr>\n",
       "      <th>4</th>\n",
       "      <td>The Normans (Norman: Nourmands; French: Norman...</td>\n",
       "      <td>What century did the Normans first gain their ...</td>\n",
       "      <td>[10th century, the first half of the 10th cent...</td>\n",
       "    </tr>\n",
       "    <tr>\n",
       "      <th>5</th>\n",
       "      <td>The Normans (Norman: Nourmands; French: Norman...</td>\n",
       "      <td>Who gave their name to Normandy in the 1000's ...</td>\n",
       "      <td>[]</td>\n",
       "    </tr>\n",
       "  </tbody>\n",
       "</table>\n",
       "</div>"
      ],
      "text/plain": [
       "                                             context  \\\n",
       "0  The Normans (Norman: Nourmands; French: Norman...   \n",
       "1  The Normans (Norman: Nourmands; French: Norman...   \n",
       "2  The Normans (Norman: Nourmands; French: Norman...   \n",
       "3  The Normans (Norman: Nourmands; French: Norman...   \n",
       "4  The Normans (Norman: Nourmands; French: Norman...   \n",
       "5  The Normans (Norman: Nourmands; French: Norman...   \n",
       "\n",
       "                                            question  \\\n",
       "0               In what country is Normandy located?   \n",
       "1                 When were the Normans in Normandy?   \n",
       "2      From which countries did the Norse originate?   \n",
       "3                          Who was the Norse leader?   \n",
       "4  What century did the Normans first gain their ...   \n",
       "5  Who gave their name to Normandy in the 1000's ...   \n",
       "\n",
       "                                             answers  \n",
       "0                   [France, France, France, France]  \n",
       "1  [10th and 11th centuries, in the 10th and 11th...  \n",
       "2  [Denmark, Iceland and Norway, Denmark, Iceland...  \n",
       "3                       [Rollo, Rollo, Rollo, Rollo]  \n",
       "4  [10th century, the first half of the 10th cent...  \n",
       "5                                                 []  "
      ]
     },
     "execution_count": 7,
     "metadata": {},
     "output_type": "execute_result"
    }
   ],
   "source": [
    "df1.head(6)"
   ]
  },
  {
   "cell_type": "markdown",
   "id": "22d856c0",
   "metadata": {},
   "source": [
    "## DATA CLEANSING"
   ]
  },
  {
   "cell_type": "code",
   "execution_count": 8,
   "id": "c8a02450",
   "metadata": {},
   "outputs": [
    {
     "data": {
      "application/vnd.jupyter.widget-view+json": {
       "model_id": "1f884932cd7647278b936caa0498a32b",
       "version_major": 2,
       "version_minor": 0
      },
      "text/plain": [
       "  0%|          | 0/12285 [00:00<?, ?it/s]"
      ]
     },
     "metadata": {},
     "output_type": "display_data"
    }
   ],
   "source": [
    "# Create separate samples for each context-question-answer pair\n",
    "samples = []\n",
    "for i in tqdm(range(len(df1['context']))):\n",
    "    context = df1['context'][i]\n",
    "    question = df1['question'][i]\n",
    "    answers = df1['answers'][i]\n",
    "\n",
    "    for answer in set(answers):\n",
    "        samples.append({'context': context, 'question': question, 'answer': answer})\n",
    "df = pd.DataFrame(samples)"
   ]
  },
  {
   "cell_type": "code",
   "execution_count": 9,
   "id": "b8b2ae8c",
   "metadata": {},
   "outputs": [
    {
     "data": {
      "text/html": [
       "<div>\n",
       "<style scoped>\n",
       "    .dataframe tbody tr th:only-of-type {\n",
       "        vertical-align: middle;\n",
       "    }\n",
       "\n",
       "    .dataframe tbody tr th {\n",
       "        vertical-align: top;\n",
       "    }\n",
       "\n",
       "    .dataframe thead th {\n",
       "        text-align: right;\n",
       "    }\n",
       "</style>\n",
       "<table border=\"1\" class=\"dataframe\">\n",
       "  <thead>\n",
       "    <tr style=\"text-align: right;\">\n",
       "      <th></th>\n",
       "      <th>context</th>\n",
       "      <th>question</th>\n",
       "      <th>answer</th>\n",
       "    </tr>\n",
       "  </thead>\n",
       "  <tbody>\n",
       "    <tr>\n",
       "      <th>0</th>\n",
       "      <td>The Normans (Norman: Nourmands; French: Norman...</td>\n",
       "      <td>In what country is Normandy located?</td>\n",
       "      <td>France</td>\n",
       "    </tr>\n",
       "    <tr>\n",
       "      <th>1</th>\n",
       "      <td>The Normans (Norman: Nourmands; French: Norman...</td>\n",
       "      <td>When were the Normans in Normandy?</td>\n",
       "      <td>in the 10th and 11th centuries</td>\n",
       "    </tr>\n",
       "    <tr>\n",
       "      <th>2</th>\n",
       "      <td>The Normans (Norman: Nourmands; French: Norman...</td>\n",
       "      <td>When were the Normans in Normandy?</td>\n",
       "      <td>10th and 11th centuries</td>\n",
       "    </tr>\n",
       "    <tr>\n",
       "      <th>3</th>\n",
       "      <td>The Normans (Norman: Nourmands; French: Norman...</td>\n",
       "      <td>From which countries did the Norse originate?</td>\n",
       "      <td>Denmark, Iceland and Norway</td>\n",
       "    </tr>\n",
       "    <tr>\n",
       "      <th>4</th>\n",
       "      <td>The Normans (Norman: Nourmands; French: Norman...</td>\n",
       "      <td>Who was the Norse leader?</td>\n",
       "      <td>Rollo</td>\n",
       "    </tr>\n",
       "  </tbody>\n",
       "</table>\n",
       "</div>"
      ],
      "text/plain": [
       "                                             context  \\\n",
       "0  The Normans (Norman: Nourmands; French: Norman...   \n",
       "1  The Normans (Norman: Nourmands; French: Norman...   \n",
       "2  The Normans (Norman: Nourmands; French: Norman...   \n",
       "3  The Normans (Norman: Nourmands; French: Norman...   \n",
       "4  The Normans (Norman: Nourmands; French: Norman...   \n",
       "\n",
       "                                        question  \\\n",
       "0           In what country is Normandy located?   \n",
       "1             When were the Normans in Normandy?   \n",
       "2             When were the Normans in Normandy?   \n",
       "3  From which countries did the Norse originate?   \n",
       "4                      Who was the Norse leader?   \n",
       "\n",
       "                           answer  \n",
       "0                          France  \n",
       "1  in the 10th and 11th centuries  \n",
       "2         10th and 11th centuries  \n",
       "3     Denmark, Iceland and Norway  \n",
       "4                           Rollo  "
      ]
     },
     "execution_count": 9,
     "metadata": {},
     "output_type": "execute_result"
    }
   ],
   "source": [
    "df.head()"
   ]
  },
  {
   "cell_type": "code",
   "execution_count": 10,
   "id": "bd274684",
   "metadata": {},
   "outputs": [
    {
     "data": {
      "text/plain": [
       "(10685, 3)"
      ]
     },
     "execution_count": 10,
     "metadata": {},
     "output_type": "execute_result"
    }
   ],
   "source": [
    "df.shape"
   ]
  },
  {
   "cell_type": "markdown",
   "id": "79a0e068",
   "metadata": {},
   "source": [
    "The total usuable non-null observations are almost 10K in the dataset extracted."
   ]
  },
  {
   "cell_type": "code",
   "execution_count": 11,
   "id": "37d9e3b6",
   "metadata": {},
   "outputs": [],
   "source": [
    "# step 1: Transforming context and question into lowercase\n",
    "df['context'] = df['context'].str.lower()\n",
    "df['question'] = df['question'].str.lower()"
   ]
  },
  {
   "cell_type": "code",
   "execution_count": 12,
   "id": "3bb93e31",
   "metadata": {},
   "outputs": [],
   "source": [
    "# Step 2: Tokenization and Lemmatization using spaCy\n",
    "nlp = spacy.load('en_core_web_sm')\n",
    "\n",
    "def preprocess_text(text):\n",
    "    doc = nlp(text)\n",
    "    tokens = [token.lemma_ for token in doc if not token.is_stop and not token.is_punct]\n",
    "    return ' '.join(tokens)"
   ]
  },
  {
   "cell_type": "markdown",
   "id": "daecfa5e",
   "metadata": {},
   "source": [
    "The context and question features are tokenized and lemmatized along with stop words removal and punctuation removal, however, the answer could be case sensitive, may be with punctuation, and so on."
   ]
  },
  {
   "cell_type": "code",
   "execution_count": 183,
   "id": "db762fe0",
   "metadata": {},
   "outputs": [],
   "source": [
    "df['context'] = df['context'].apply(preprocess_text)\n",
    "df['question'] = df['question'].apply(preprocess_text)"
   ]
  },
  {
   "cell_type": "code",
   "execution_count": 31,
   "id": "c3a7b214",
   "metadata": {},
   "outputs": [],
   "source": [
    "# df = pd.read_csv(\"initial_preprocessed.csv\")\n",
    "# df.drop(['Unnamed: 0'], axis=1, inplace=True)\n",
    "# df.dropna(inplace=True)"
   ]
  },
  {
   "cell_type": "code",
   "execution_count": 32,
   "id": "a65c0f85",
   "metadata": {},
   "outputs": [
    {
     "data": {
      "text/html": [
       "<div>\n",
       "<style scoped>\n",
       "    .dataframe tbody tr th:only-of-type {\n",
       "        vertical-align: middle;\n",
       "    }\n",
       "\n",
       "    .dataframe tbody tr th {\n",
       "        vertical-align: top;\n",
       "    }\n",
       "\n",
       "    .dataframe thead th {\n",
       "        text-align: right;\n",
       "    }\n",
       "</style>\n",
       "<table border=\"1\" class=\"dataframe\">\n",
       "  <thead>\n",
       "    <tr style=\"text-align: right;\">\n",
       "      <th></th>\n",
       "      <th>context</th>\n",
       "      <th>question</th>\n",
       "      <th>answer</th>\n",
       "    </tr>\n",
       "  </thead>\n",
       "  <tbody>\n",
       "    <tr>\n",
       "      <th>0</th>\n",
       "      <td>normans norman nourmand french normand latin n...</td>\n",
       "      <td>country normandy locate</td>\n",
       "      <td>France</td>\n",
       "    </tr>\n",
       "    <tr>\n",
       "      <th>1</th>\n",
       "      <td>normans norman nourmand french normand latin n...</td>\n",
       "      <td>normans normandy</td>\n",
       "      <td>in the 10th and 11th centuries</td>\n",
       "    </tr>\n",
       "    <tr>\n",
       "      <th>2</th>\n",
       "      <td>normans norman nourmand french normand latin n...</td>\n",
       "      <td>normans normandy</td>\n",
       "      <td>10th and 11th centuries</td>\n",
       "    </tr>\n",
       "  </tbody>\n",
       "</table>\n",
       "</div>"
      ],
      "text/plain": [
       "                                             context                 question  \\\n",
       "0  normans norman nourmand french normand latin n...  country normandy locate   \n",
       "1  normans norman nourmand french normand latin n...         normans normandy   \n",
       "2  normans norman nourmand french normand latin n...         normans normandy   \n",
       "\n",
       "                           answer  \n",
       "0                          France  \n",
       "1  in the 10th and 11th centuries  \n",
       "2         10th and 11th centuries  "
      ]
     },
     "execution_count": 32,
     "metadata": {},
     "output_type": "execute_result"
    }
   ],
   "source": [
    "df.head(3)"
   ]
  },
  {
   "cell_type": "code",
   "execution_count": 33,
   "id": "8d3decf6",
   "metadata": {},
   "outputs": [],
   "source": [
    "# df.to_csv(\"initial_preprocessed.csv\")"
   ]
  },
  {
   "cell_type": "markdown",
   "id": "01feaf8a",
   "metadata": {},
   "source": [
    "## TRAIN-TEST SPLIT"
   ]
  },
  {
   "cell_type": "code",
   "execution_count": 34,
   "id": "8ea4e8dd",
   "metadata": {},
   "outputs": [],
   "source": [
    "# Split the data into training and testing sets\n",
    "train_data, test_data = train_test_split(df, test_size=0.2, random_state=42)"
   ]
  },
  {
   "cell_type": "code",
   "execution_count": 35,
   "id": "7d1f2d7f",
   "metadata": {},
   "outputs": [
    {
     "data": {
      "text/plain": [
       "((8547, 3), (2137, 3))"
      ]
     },
     "execution_count": 35,
     "metadata": {},
     "output_type": "execute_result"
    }
   ],
   "source": [
    "train_data.shape, test_data.shape"
   ]
  },
  {
   "cell_type": "markdown",
   "id": "50694dfd",
   "metadata": {},
   "source": [
    "The data is divided into training and testing set with ratio of 80 and 20. Total observations in training set are more than 8K and that in testing set are more than 2K."
   ]
  },
  {
   "cell_type": "markdown",
   "id": "d22db0ff",
   "metadata": {},
   "source": [
    "## DATA PREPROCESSING"
   ]
  },
  {
   "cell_type": "markdown",
   "id": "8226b778",
   "metadata": {},
   "source": [
    "### 1. Tokenization and Vocabulary Creation"
   ]
  },
  {
   "cell_type": "code",
   "execution_count": 36,
   "id": "8e02371a",
   "metadata": {},
   "outputs": [],
   "source": [
    "# Tokenization using TensorFlow Tokenizer\n",
    "tokenizer = Tokenizer()\n",
    "tokenizer.fit_on_texts(train_data['context'].tolist() + train_data['question'].tolist())"
   ]
  },
  {
   "cell_type": "code",
   "execution_count": 37,
   "id": "1825bc53",
   "metadata": {},
   "outputs": [
    {
     "data": {
      "text/plain": [
       "13880"
      ]
     },
     "execution_count": 37,
     "metadata": {},
     "output_type": "execute_result"
    }
   ],
   "source": [
    "vocab_size = len(tokenizer.word_index) + 1\n",
    "vocab_size"
   ]
  },
  {
   "cell_type": "markdown",
   "id": "5b4a4b2d",
   "metadata": {},
   "source": [
    "The size of vocabularly considering context and question column is almost 14K. The answer is not considered while creating vocab because the answer is alreay present within context."
   ]
  },
  {
   "cell_type": "markdown",
   "id": "b539aa50",
   "metadata": {},
   "source": [
    "### 2. Sequencing - Text to Sequence Conversion"
   ]
  },
  {
   "cell_type": "code",
   "execution_count": 38,
   "id": "bc0eb3ed",
   "metadata": {},
   "outputs": [],
   "source": [
    "# Convert text to sequences\n",
    "train_context_sequences = tokenizer.texts_to_sequences(train_data['context'].tolist())\n",
    "train_question_sequences = tokenizer.texts_to_sequences(train_data['question'].tolist())\n",
    "train_answer_sequences = tokenizer.texts_to_sequences(train_data['answer'].tolist())\n",
    "\n",
    "test_context_sequences = tokenizer.texts_to_sequences(test_data['context'].tolist())\n",
    "test_question_sequences = tokenizer.texts_to_sequences(test_data['question'].tolist())\n",
    "test_answer_sequences = tokenizer.texts_to_sequences(test_data['answer'].tolist())"
   ]
  },
  {
   "cell_type": "code",
   "execution_count": 39,
   "id": "1f907aec",
   "metadata": {},
   "outputs": [
    {
     "data": {
      "text/plain": [
       "373"
      ]
     },
     "execution_count": 39,
     "metadata": {},
     "output_type": "execute_result"
    }
   ],
   "source": [
    "# Pad sequences for consistent length\n",
    "max_seq_length = max(max(len(seq) for seq in train_context_sequences),\n",
    "                    max(len(seq) for seq in train_question_sequences))\n",
    "max_seq_length"
   ]
  },
  {
   "cell_type": "markdown",
   "id": "d05a0319",
   "metadata": {},
   "source": [
    "### 3. Padding Sequences"
   ]
  },
  {
   "cell_type": "code",
   "execution_count": 40,
   "id": "2b6ade89",
   "metadata": {},
   "outputs": [],
   "source": [
    "train_context_padded = pad_sequences(train_context_sequences, maxlen=max_seq_length, padding='post', truncating='post')\n",
    "train_question_padded = pad_sequences(train_question_sequences, maxlen=max_seq_length, padding='post', truncating='post')\n",
    "train_answer_padded = pad_sequences(train_answer_sequences, maxlen=max_seq_length, padding='post', truncating='post')\n",
    "\n",
    "test_context_padded = pad_sequences(test_context_sequences, maxlen=max_seq_length, padding='post', truncating='post')\n",
    "test_question_padded = pad_sequences(test_question_sequences, maxlen=max_seq_length, padding='post', truncating='post')\n",
    "test_answer_padded = pad_sequences(test_answer_sequences, maxlen=max_seq_length, padding='post', truncating='post')"
   ]
  },
  {
   "cell_type": "code",
   "execution_count": 41,
   "id": "2065ddbe",
   "metadata": {},
   "outputs": [
    {
     "data": {
      "text/plain": [
       "array([1358,  621,  764, 1436, 1105, 3345,   21,   85,  693, 2765,  169,\n",
       "       2037, 1415, 1485, 4174,  293,  227,  212,  630,  528, 4872, 2423,\n",
       "         64,  581, 3741, 1105, 1416,  291, 1358,  322,    8, 2062, 2037,\n",
       "        528, 2423,  212,  339, 4065,  631, 2062, 2423,  301,  291,   38,\n",
       "       5039,  212, 1016,  411,  160, 4718, 5475,   55, 1358, 2275, 2521,\n",
       "       2423,  664,  134, 6896,  291,    3, 1524,  631, 3946,  655,  192,\n",
       "        767,  212, 1016,  212,  384,  916,  655,  160, 6897, 1525, 1497,\n",
       "        217, 1358, 1249, 1402,  212,  384,  916,   26, 1497, 2665,  287,\n",
       "        149,  155,  212, 3094,  137, 1992,  212, 2665,   38,  503, 3404,\n",
       "          0,    0,    0,    0,    0,    0,    0,    0,    0,    0,    0,\n",
       "          0,    0,    0,    0,    0,    0,    0,    0,    0,    0,    0,\n",
       "          0,    0,    0,    0,    0,    0,    0,    0,    0,    0,    0,\n",
       "          0,    0,    0,    0,    0,    0,    0,    0,    0,    0,    0,\n",
       "          0,    0,    0,    0,    0,    0,    0,    0,    0,    0,    0,\n",
       "          0,    0,    0,    0,    0,    0,    0,    0,    0,    0,    0,\n",
       "          0,    0,    0,    0,    0,    0,    0,    0,    0,    0,    0,\n",
       "          0,    0,    0,    0,    0,    0,    0,    0,    0,    0,    0,\n",
       "          0,    0,    0,    0,    0,    0,    0,    0,    0,    0,    0,\n",
       "          0,    0,    0,    0,    0,    0,    0,    0,    0,    0,    0,\n",
       "          0,    0,    0,    0,    0,    0,    0,    0,    0,    0,    0,\n",
       "          0,    0,    0,    0,    0,    0,    0,    0,    0,    0,    0,\n",
       "          0,    0,    0,    0,    0,    0,    0,    0,    0,    0,    0,\n",
       "          0,    0,    0,    0,    0,    0,    0,    0,    0,    0,    0,\n",
       "          0,    0,    0,    0,    0,    0,    0,    0,    0,    0,    0,\n",
       "          0,    0,    0,    0,    0,    0,    0,    0,    0,    0,    0,\n",
       "          0,    0,    0,    0,    0,    0,    0,    0,    0,    0,    0,\n",
       "          0,    0,    0,    0,    0,    0,    0,    0,    0,    0,    0,\n",
       "          0,    0,    0,    0,    0,    0,    0,    0,    0,    0,    0,\n",
       "          0,    0,    0,    0,    0,    0,    0,    0,    0,    0,    0,\n",
       "          0,    0,    0,    0,    0,    0,    0,    0,    0,    0,    0,\n",
       "          0,    0,    0,    0,    0,    0,    0,    0,    0,    0,    0,\n",
       "          0,    0,    0,    0,    0,    0,    0,    0,    0,    0,    0,\n",
       "          0,    0,    0,    0,    0,    0,    0,    0,    0,    0,    0,\n",
       "          0,    0,    0,    0,    0,    0,    0,    0,    0,    0])"
      ]
     },
     "execution_count": 41,
     "metadata": {},
     "output_type": "execute_result"
    }
   ],
   "source": [
    "train_context_padded[0]"
   ]
  },
  {
   "cell_type": "markdown",
   "id": "0a7f7211",
   "metadata": {},
   "source": [
    "### 4. Word Embedding using GloVe"
   ]
  },
  {
   "cell_type": "code",
   "execution_count": 43,
   "id": "4280439a",
   "metadata": {},
   "outputs": [
    {
     "data": {
      "application/vnd.jupyter.widget-view+json": {
       "model_id": "2f4ee60376524b84b82200b6aaf9d0a5",
       "version_major": 2,
       "version_minor": 0
      },
      "text/plain": [
       "  0%|          | 0/400000 [00:00<?, ?it/s]"
      ]
     },
     "metadata": {},
     "output_type": "display_data"
    },
    {
     "name": "stdout",
     "output_type": "stream",
     "text": [
      "Total lines in the file: 400000\n",
      "Total words in glove_embeddings: 400000\n"
     ]
    }
   ],
   "source": [
    "glove_file_path = './GloVe/glove.6B.100d.txt'\n",
    "\n",
    "glove_embeddings = {}\n",
    "total_lines = 0 \n",
    "\n",
    "# Reopen the file for reading\n",
    "with open(glove_file_path, 'r', encoding='utf-8') as glove_file:\n",
    "    total_lines = sum(1 for line in glove_file)\n",
    "    with tqdm(total=total_lines) as pbar:\n",
    "        glove_file.seek(0)\n",
    "        for line in glove_file:\n",
    "            values = line.split()\n",
    "            word = values[0]\n",
    "            try:\n",
    "                vector = np.array(values[1:], dtype='float32')\n",
    "                glove_embeddings[word] = vector\n",
    "            except ValueError:\n",
    "                # Handle the case where conversion to float fails\n",
    "                print(f\"Skipping word '{word}' due to invalid vector format.\")\n",
    "            pbar.update(1)\n",
    "\n",
    "print(f'Total lines in the file: {total_lines}')\n",
    "print(f'Total words in glove_embeddings: {len(glove_embeddings)}')"
   ]
  },
  {
   "cell_type": "code",
   "execution_count": 54,
   "id": "faf449f6",
   "metadata": {},
   "outputs": [
    {
     "data": {
      "application/vnd.jupyter.widget-view+json": {
       "model_id": "b1ec4abd46184186adf97fd974cd80f8",
       "version_major": 2,
       "version_minor": 0
      },
      "text/plain": [
       "Word Embedding:   0%|          | 0/13879 [00:00<?, ?it/s]"
      ]
     },
     "metadata": {},
     "output_type": "display_data"
    }
   ],
   "source": [
    "embedding_dim = 100\n",
    "\n",
    "# Create an embedding matrix\n",
    "embedding_matrix = np.zeros((vocab_size, embedding_dim))\n",
    "\n",
    "for word, index in tqdm(tokenizer.word_index.items(), total=vocab_size - 1, desc=\"Word Embedding: \"):\n",
    "    if word in glove_embeddings:\n",
    "        embedding_matrix[index] = glove_embeddings[word]"
   ]
  },
  {
   "cell_type": "code",
   "execution_count": 56,
   "id": "acc32cf3",
   "metadata": {},
   "outputs": [
    {
     "data": {
      "text/plain": [
       "(13880, 100)"
      ]
     },
     "execution_count": 56,
     "metadata": {},
     "output_type": "execute_result"
    }
   ],
   "source": [
    "embedding_matrix.shape"
   ]
  },
  {
   "cell_type": "code",
   "execution_count": 57,
   "id": "351aa66f",
   "metadata": {},
   "outputs": [
    {
     "data": {
      "text/plain": [
       "array([[ 0.00000000e+00,  0.00000000e+00,  0.00000000e+00, ...,\n",
       "         0.00000000e+00,  0.00000000e+00,  0.00000000e+00],\n",
       "       [ 1.18350005e-03, -1.65059999e-01,  1.22360003e+00, ...,\n",
       "        -2.94829994e-01,  8.48580003e-01, -5.02300024e-01],\n",
       "       [ 6.52230024e-01, -6.71370029e-01, -2.61959992e-02, ...,\n",
       "        -6.06540024e-01,  1.29040003e-01, -8.49910006e-02],\n",
       "       ...,\n",
       "       [ 0.00000000e+00,  0.00000000e+00,  0.00000000e+00, ...,\n",
       "         0.00000000e+00,  0.00000000e+00,  0.00000000e+00],\n",
       "       [ 0.00000000e+00,  0.00000000e+00,  0.00000000e+00, ...,\n",
       "         0.00000000e+00,  0.00000000e+00,  0.00000000e+00],\n",
       "       [ 2.30269998e-01, -2.65170008e-01, -3.16210002e-01, ...,\n",
       "         7.75929987e-02, -5.83879985e-02, -1.49690002e-01]])"
      ]
     },
     "execution_count": 57,
     "metadata": {},
     "output_type": "execute_result"
    }
   ],
   "source": [
    "embedding_matrix"
   ]
  },
  {
   "cell_type": "markdown",
   "id": "f647bab5",
   "metadata": {},
   "source": [
    "The embedding dimension is 100 i.e., each word in the vocab is represented as the vector of length 100."
   ]
  },
  {
   "cell_type": "markdown",
   "id": "b2e76622",
   "metadata": {},
   "source": [
    "# Encoder-Decoder Model Development"
   ]
  },
  {
   "cell_type": "markdown",
   "id": "7ad2a01f",
   "metadata": {},
   "source": [
    "### 1. Model Class Definition"
   ]
  },
  {
   "cell_type": "code",
   "execution_count": 64,
   "id": "89a53f11",
   "metadata": {},
   "outputs": [],
   "source": [
    "# Define the encoder-decoder model\n",
    "class QAModel(tf.keras.Model):\n",
    "    def __init__(self, vocab_size, embed_dim=50, lstm_units=64, drop_rate=0.35):\n",
    "        super(QAModel, self).__init__()\n",
    "\n",
    "        # Encoder (processes context)\n",
    "        self.context_embedding = Embedding(vocab_size, embed_dim, input_length=max_seq_length,\n",
    "                                   weights=[embedding_matrix] if embed_dim == 100 else None, \n",
    "                                   trainable=False)\n",
    "\n",
    "        self.context_lstm = LSTM(lstm_units, return_sequences=True)\n",
    "        self.context_batch_norm = BatchNormalization()\n",
    "        self.context_dropout = Dropout(rate=drop_rate)\n",
    "\n",
    "        # Decoder (processes question)\n",
    "        self.question_embedding = Embedding(vocab_size, embed_dim, input_length=max_seq_length,\n",
    "                                   weights=[embedding_matrix] if embed_dim == 100 else None, \n",
    "                                   trainable=False)\n",
    "        self.question_lstm = LSTM(lstm_units, return_sequences=True)\n",
    "        self.question_batch_norm = BatchNormalization()\n",
    "        self.question_dropout = Dropout(rate=drop_rate)\n",
    "\n",
    "        # Concatenate both encoder outputs\n",
    "        self.concat = Concatenate(axis=-1)\n",
    "\n",
    "        # Dense layer for prediction\n",
    "        self.dense = Dense(vocab_size, activation='softmax')\n",
    "    \n",
    "    def call(self, inputs):\n",
    "        context = inputs['context']\n",
    "        question = inputs['question']\n",
    "\n",
    "        # Encoder\n",
    "        context_embedded = self.context_embedding(context)\n",
    "        context_encoded = self.context_lstm(context_embedded)\n",
    "        context_normalized = self.context_batch_norm(context_encoded)\n",
    "        context_dropout = self.context_dropout(context_normalized)\n",
    "\n",
    "        # Decoder\n",
    "        question_embedded = self.question_embedding(question)\n",
    "        question_encoded = self.question_lstm(question_embedded)\n",
    "        question_normalized = self.question_batch_norm(question_encoded)\n",
    "        question_dropout = self.question_dropout(question_normalized)\n",
    "\n",
    "        # Concatenate encoder outputs\n",
    "        merged = self.concat([context_dropout, question_dropout])\n",
    "\n",
    "        # Predict answer\n",
    "        output = self.dense(merged)\n",
    "\n",
    "        return output"
   ]
  },
  {
   "cell_type": "markdown",
   "id": "967bfc7e",
   "metadata": {},
   "source": [
    "### 2. Building the Model"
   ]
  },
  {
   "cell_type": "code",
   "execution_count": 65,
   "id": "2a668331",
   "metadata": {},
   "outputs": [],
   "source": [
    "# Instantiate the model\n",
    "model = QAModel(vocab_size, embed_dim=100)"
   ]
  },
  {
   "cell_type": "code",
   "execution_count": 66,
   "id": "fc28b4b7",
   "metadata": {
    "scrolled": false
   },
   "outputs": [],
   "source": [
    "# Build the model by calling it on some data\n",
    "dummy_context = tf.constant(np.zeros((1, max_seq_length), dtype=np.int32))\n",
    "dummy_question = tf.constant(np.zeros((1, max_seq_length), dtype=np.int32))\n",
    "\n",
    "_ = model({'context': dummy_context, 'question': dummy_question})"
   ]
  },
  {
   "cell_type": "code",
   "execution_count": 67,
   "id": "124d7785",
   "metadata": {},
   "outputs": [
    {
     "name": "stdout",
     "output_type": "stream",
     "text": [
      "Model: \"qa_model_2\"\n",
      "_________________________________________________________________\n",
      " Layer (type)                Output Shape              Param #   \n",
      "=================================================================\n",
      " embedding_4 (Embedding)     multiple                  1388000   \n",
      "                                                                 \n",
      " lstm_4 (LSTM)               multiple                  42240     \n",
      "                                                                 \n",
      " batch_normalization_4 (Bat  multiple                  256       \n",
      " chNormalization)                                                \n",
      "                                                                 \n",
      " dropout_4 (Dropout)         multiple                  0         \n",
      "                                                                 \n",
      " embedding_5 (Embedding)     multiple                  1388000   \n",
      "                                                                 \n",
      " lstm_5 (LSTM)               multiple                  42240     \n",
      "                                                                 \n",
      " batch_normalization_5 (Bat  multiple                  256       \n",
      " chNormalization)                                                \n",
      "                                                                 \n",
      " dropout_5 (Dropout)         multiple                  0         \n",
      "                                                                 \n",
      " concatenate_2 (Concatenate  multiple                  0         \n",
      " )                                                               \n",
      "                                                                 \n",
      " dense_2 (Dense)             multiple                  1790520   \n",
      "                                                                 \n",
      "=================================================================\n",
      "Total params: 4651512 (17.74 MB)\n",
      "Trainable params: 1875256 (7.15 MB)\n",
      "Non-trainable params: 2776256 (10.59 MB)\n",
      "_________________________________________________________________\n"
     ]
    }
   ],
   "source": [
    "# Compile the model\n",
    "model.compile(optimizer='adam', loss='sparse_categorical_crossentropy', metrics=['accuracy'])\n",
    "\n",
    "# Display the model summary\n",
    "model.summary()"
   ]
  },
  {
   "cell_type": "markdown",
   "id": "b66c4623",
   "metadata": {},
   "source": [
    "### 3. Model Training"
   ]
  },
  {
   "cell_type": "code",
   "execution_count": 68,
   "id": "7dfc6079",
   "metadata": {
    "scrolled": true
   },
   "outputs": [
    {
     "name": "stdout",
     "output_type": "stream",
     "text": [
      "Epoch 1/3\n",
      "WARNING:tensorflow:From C:\\Users\\Neurons\\anaconda3\\Lib\\site-packages\\keras\\src\\utils\\tf_utils.py:492: The name tf.ragged.RaggedTensorValue is deprecated. Please use tf.compat.v1.ragged.RaggedTensorValue instead.\n",
      "\n",
      "WARNING:tensorflow:From C:\\Users\\Neurons\\anaconda3\\Lib\\site-packages\\keras\\src\\engine\\base_layer_utils.py:384: The name tf.executing_eagerly_outside_functions is deprecated. Please use tf.compat.v1.executing_eagerly_outside_functions instead.\n",
      "\n",
      "401/401 [==============================] - 788s 2s/step - loss: 2.5200 - accuracy: 0.9480 - val_loss: 0.1310 - val_accuracy: 0.9928\n",
      "Epoch 2/3\n",
      "401/401 [==============================] - 763s 2s/step - loss: 0.2083 - accuracy: 0.9919 - val_loss: 0.1461 - val_accuracy: 0.9924\n",
      "Epoch 3/3\n",
      "401/401 [==============================] - 791s 2s/step - loss: 0.1468 - accuracy: 0.9921 - val_loss: 0.1229 - val_accuracy: 0.9927\n"
     ]
    }
   ],
   "source": [
    "# Train the model\n",
    "history = model.fit({'context': train_context_padded, 'question': train_question_padded},\n",
    "              train_answer_padded,\n",
    "              epochs=3,\n",
    "              batch_size=16,\n",
    "              validation_split=0.25)"
   ]
  },
  {
   "cell_type": "code",
   "execution_count": 70,
   "id": "d1038ce7",
   "metadata": {
    "scrolled": false
   },
   "outputs": [
    {
     "name": "stdout",
     "output_type": "stream",
     "text": [
      "INFO:tensorflow:Assets written to: saved_model\\assets\n"
     ]
    },
    {
     "name": "stderr",
     "output_type": "stream",
     "text": [
      "INFO:tensorflow:Assets written to: saved_model\\assets\n"
     ]
    }
   ],
   "source": [
    "# model.save(\"saved_model\")"
   ]
  },
  {
   "cell_type": "code",
   "execution_count": 71,
   "id": "d0a77866",
   "metadata": {},
   "outputs": [],
   "source": [
    "def plot_training_history(history):\n",
    "    plt.figure(figsize=(12, 6))\n",
    "    plt.subplot(1, 2, 1)\n",
    "    plt.plot(history.history['loss'], label='Training Loss')\n",
    "    plt.plot(history.history['val_loss'], label='Validation Loss')\n",
    "    plt.title('Training and Validation Loss')\n",
    "    plt.xlabel('Epoch')\n",
    "    plt.ylabel('Loss')\n",
    "    plt.legend()\n",
    "\n",
    "    # Plot training and validation accuracy\n",
    "    plt.subplot(1, 2, 2)\n",
    "    plt.plot(history.history['accuracy'], label='Training Accuracy')\n",
    "    plt.plot(history.history['val_accuracy'], label='Validation Accuracy')\n",
    "    plt.title('Training and Validation Accuracy')\n",
    "    plt.xlabel('Epoch')\n",
    "    plt.ylabel('Accuracy')\n",
    "    plt.legend()\n",
    "\n",
    "    plt.tight_layout()\n",
    "    plt.show()"
   ]
  },
  {
   "cell_type": "code",
   "execution_count": 74,
   "id": "df1d5c36",
   "metadata": {},
   "outputs": [
    {
     "data": {
      "image/png": "[encoded data removed]",
      "text/plain": [
       "<Figure size 1200x600 with 2 Axes>"
      ]
     },
     "metadata": {},
     "output_type": "display_data"
    }
   ],
   "source": [
    "plot_training_history(history)"
   ]
  },
  {
   "cell_type": "markdown",
   "id": "31219686",
   "metadata": {},
   "source": [
    "### 4. Model Evaluation"
   ]
  },
  {
   "cell_type": "code",
   "execution_count": 75,
   "id": "59dbbb1c",
   "metadata": {},
   "outputs": [
    {
     "name": "stdout",
     "output_type": "stream",
     "text": [
      "67/67 [==============================] - 114s 2s/step - loss: 0.1304 - accuracy: 0.9926\n",
      "Test Loss: 0.13037261366844177, Test Accuracy: 0.9926245212554932\n"
     ]
    }
   ],
   "source": [
    "# Evaluate the model on the test set\n",
    "test_loss, test_accuracy = model.evaluate({'context': test_context_padded, 'question': test_question_padded}, \n",
    "                                          test_answer_padded)\n",
    "print(f'Test Loss: {test_loss}, Test Accuracy: {test_accuracy}')"
   ]
  },
  {
   "cell_type": "code",
   "execution_count": 87,
   "id": "1fdec446",
   "metadata": {},
   "outputs": [],
   "source": [
    "def predict_answer(context, question):\n",
    "    # Preprocess the question and context\n",
    "    preprocessed_question = preprocess_text(question)\n",
    "    preprocessed_context = preprocess_text(context)\n",
    "\n",
    "    # Tokenize and pad the sequences\n",
    "    question_sequence = tokenizer.texts_to_sequences([preprocessed_question])\n",
    "    context_sequence = tokenizer.texts_to_sequences([preprocessed_context])\n",
    "\n",
    "    question_padded = pad_sequences(question_sequence, maxlen=max_seq_length, padding='post', truncating='post')\n",
    "    context_padded = pad_sequences(context_sequence, maxlen=max_seq_length, padding='post', truncating='post')\n",
    "\n",
    "    model_input = {'context': np.array(context_padded), 'question': np.array(question_padded)}\n",
    "    predictions = model.predict(model_input)\n",
    "\n",
    "    # obtain the index of the highest probability as the predicted answer index\n",
    "    predicted_answer_index = np.argsort(predictions[0], axis=1)\n",
    "    \n",
    "    answer = []\n",
    "    for idx in predicted_answer_index[0][-10:]:\n",
    "        # Convert the index back to the word using the tokenizer\n",
    "        predicted_answer = tokenizer.index_word.get(idx, 'unknown')\n",
    "        answer.append(predicted_answer)\n",
    "    \n",
    "    return ' '.join(answer)"
   ]
  },
  {
   "cell_type": "code",
   "execution_count": 91,
   "id": "454e4196",
   "metadata": {},
   "outputs": [
    {
     "name": "stdout",
     "output_type": "stream",
     "text": [
      "1/1 [==============================] - 0s 65ms/step\n"
     ]
    },
    {
     "data": {
      "text/plain": [
       "'world 3 1 one british in al high a the'"
      ]
     },
     "execution_count": 91,
     "metadata": {},
     "output_type": "execute_result"
    }
   ],
   "source": [
    "real_question = \"What is the capital of France?\"\n",
    "given_context = \"Paris is the capital of France.\"\n",
    "predict_answer(given_context, real_question)"
   ]
  },
  {
   "cell_type": "markdown",
   "id": "909e36ce",
   "metadata": {},
   "source": [
    "# Hyper-Parameter Tunning"
   ]
  },
  {
   "cell_type": "markdown",
   "id": "822b15d5",
   "metadata": {},
   "source": [
    "Hyperparameters are external configuration settings that are not learned from the data but are set before the training process begins. "
   ]
  },
  {
   "cell_type": "code",
   "execution_count": 202,
   "id": "7f5f00d8",
   "metadata": {},
   "outputs": [],
   "source": [
    "# Define the hyperparameter search space\n",
    "param_dist = {\n",
    "    'lstm_units': [32, 64],\n",
    "    'drop_rate': [0.25, 0.45],\n",
    "    'embed_dim': [50, 100],\n",
    "}"
   ]
  },
  {
   "cell_type": "markdown",
   "id": "15f653d3",
   "metadata": {},
   "source": [
    "### Grid Search "
   ]
  },
  {
   "cell_type": "code",
   "execution_count": null,
   "id": "df12c13a",
   "metadata": {},
   "outputs": [
    {
     "name": "stdout",
     "output_type": "stream",
     "text": [
      "535/535 [==============================] - 739s 1s/step - loss: 2.5812 - accuracy: 0.9681\n",
      "331/535 [=================>............] - ETA: 4:59 - loss: 3.9328 - accuracy: 0.9298"
     ]
    }
   ],
   "source": [
    "score_param_list = {'score': [], 'params': []}\n",
    "for units in param_dist['lstm_units']:\n",
    "    for rate in param_dist['drop_rate']:\n",
    "        for dim in param_dist['embed_dim']:\n",
    "            m = QAModel(vocab_size, embed_dim=dim, lstm_units=units, drop_rate=rate)\n",
    "            m({'context': dummy_context, 'question': dummy_question})\n",
    "            m.compile(optimizer='adam', loss='sparse_categorical_crossentropy', metrics=['accuracy'])\n",
    "\n",
    "            history = m.fit({'context': train_context_padded, 'question': train_question_padded},\n",
    "                              train_answer_padded, epochs=1, verbose=1, batch_size=16)\n",
    "            \n",
    "            score_param_list['score'].append(history.history)\n",
    "            score_param_list['params'].append((dim, units, rate))"
   ]
  },
  {
   "cell_type": "code",
   "execution_count": null,
   "id": "1d013b12",
   "metadata": {},
   "outputs": [],
   "source": [
    "score_param_list"
   ]
  }
 ],
 "metadata": {
  "kernelspec": {
   "display_name": "Python 3 (ipykernel)",
   "language": "python",
   "name": "python3"
  },
  "language_info": {
   "codemirror_mode": {
    "name": "ipython",
    "version": 3
   },
   "file_extension": ".py",
   "mimetype": "text/x-python",
   "name": "python",
   "nbconvert_exporter": "python",
   "pygments_lexer": "ipython3",
   "version": "3.11.3"
  }
 },
 "nbformat": 4,
 "nbformat_minor": 5
}
